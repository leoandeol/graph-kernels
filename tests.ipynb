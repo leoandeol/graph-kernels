{
 "cells": [
  {
   "cell_type": "code",
   "execution_count": 1,
   "metadata": {},
   "outputs": [
    {
     "ename": "TabError",
     "evalue": "inconsistent use of tabs and spaces in indentation (kernel.py, line 73)",
     "output_type": "error",
     "traceback": [
      "Traceback \u001b[1;36m(most recent call last)\u001b[0m:\n",
      "  File \u001b[0;32m\"c:\\users\\user\\appdata\\local\\programs\\python\\python37\\lib\\site-packages\\IPython\\core\\interactiveshell.py\"\u001b[0m, line \u001b[0;32m3267\u001b[0m, in \u001b[0;35mrun_code\u001b[0m\n    exec(code_obj, self.user_global_ns, self.user_ns)\n",
      "\u001b[1;36m  File \u001b[1;32m\"<ipython-input-1-ea4f22faebf7>\"\u001b[1;36m, line \u001b[1;32m3\u001b[1;36m, in \u001b[1;35m<module>\u001b[1;36m\u001b[0m\n\u001b[1;33m    from kernel import *\u001b[0m\n",
      "\u001b[1;36m  File \u001b[1;32m\"C:\\Users\\User\\Documents\\graph-kernels\\kernel.py\"\u001b[1;36m, line \u001b[1;32m73\u001b[0m\n\u001b[1;33m    x = fixed_point(func, np.asarray(px),maxiter=1000)\u001b[0m\n\u001b[1;37m                                                      ^\u001b[0m\n\u001b[1;31mTabError\u001b[0m\u001b[1;31m:\u001b[0m inconsistent use of tabs and spaces in indentation\n"
     ]
    }
   ],
   "source": [
    "%matplotlib inline\n",
    "from graph import *\n",
    "from kernel import *\n",
    "from svm import SVM\n",
    "import seaborn as sns\n",
    "import matplotlib.pyplot as plt"
   ]
  },
  {
   "cell_type": "markdown",
   "metadata": {},
   "source": [
    "-> todo label tridimensionel\n",
    "\n",
    "-> calculer matrice labels"
   ]
  },
  {
   "cell_type": "code",
   "execution_count": null,
   "metadata": {},
   "outputs": [],
   "source": [
    "db = Database()\n",
    "d = []\n",
    "db2 = db.gen_database_test(9, 5, 5, 3)\n",
    "N = np.max(db2[:,0].shape[0])\n",
    "M = np.max([len(x.nonzero()[0]) for x in db2[:,0]])\n",
    "ker = Kernel(0.9,N,M)\n",
    "#brut\n",
    "plt.title(\"Raw\")\n",
    "sns.heatmap(ker.build_gram_matrix(db2[:,0],kernel=ker.raw_kernel))\n",
    "plt.figure()\n",
    "plt.title(\"Inverse\")\n",
    "sns.heatmap(ker.build_gram_matrix(db2[:,0],kernel=ker.inv_kernel))\n",
    "plt.figure()\n",
    "plt.title(\"Conj grad\")\n",
    "sns.heatmap(ker.build_gram_matrix(db2[:,0],kernel=ker.conj_grad_kernel))\n",
    "plt.figure()\n",
    "plt.title(\"Fixed point\")\n",
    "sns.heatmap(ker.build_gram_matrix(db2[:,0],kernel=ker.fixed_point_kernel))\n",
    "#plt.figure()\n",
    "#plt.title(\"Spectral Decomp\")\n",
    "#sns.heatmap(ker.build_gram_matrix(db2[:,0],kernel=ker.spec_decomp_kernel))"
   ]
  },
  {
   "cell_type": "code",
   "execution_count": 2,
   "metadata": {
    "scrolled": true
   },
   "outputs": [
    {
     "ename": "NameError",
     "evalue": "name 'Database' is not defined",
     "output_type": "error",
     "traceback": [
      "\u001b[1;31m---------------------------------------------------------------------------\u001b[0m",
      "\u001b[1;31mNameError\u001b[0m                                 Traceback (most recent call last)",
      "\u001b[1;32m<timed exec>\u001b[0m in \u001b[0;36m<module>\u001b[1;34m\u001b[0m\n",
      "\u001b[1;31mNameError\u001b[0m: name 'Database' is not defined"
     ]
    }
   ],
   "source": [
    "%%time\n",
    "db = Database()\n",
    "d = []\n",
    "N = 30\n",
    "for _ in range(N):\n",
    "    db2 = db.gen_database_test(9, 5, 5, 3)\n",
    "    s = SVM(db2, 0.7, 0.9, kernel=\"inv_kernel\")\n",
    "    d.append(s.cross_val_score(5))\n",
    "print(\"Mean acc = \",sum([x[\"accuracy\"] for x in d])/N)\n",
    "print(\"Mean time = \",sum([x[\"time\"] for x in d])/N)\n",
    "print(\"Mean std = \",sum([x[\"stddev\"] for x in d])/N)\n",
    "#rajouter labels\n",
    "# somme de k = Wx.shape ou 10xWx.shape ne change rien\n",
    "#normalisé bcp plus rapide (pas toujour)\n",
    "# certains ont un meilleur score avec d'autres que eux mêmes \n",
    "#affichage des graphes et dérouler l'algo à la main pour les carrés noir\n",
    "#faire avec labels 2~5 et essayer d'avoir des distributions de labels pas trop différentes entre les toplogies"
   ]
  },
  {
   "cell_type": "code",
   "execution_count": null,
   "metadata": {},
   "outputs": [],
   "source": []
  }
 ],
 "metadata": {
  "kernelspec": {
   "display_name": "Python 3",
   "language": "python",
   "name": "python3"
  }
 },
 "nbformat": 4,
 "nbformat_minor": 2
}
