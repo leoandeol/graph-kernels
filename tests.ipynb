{
 "cells": [
  {
   "cell_type": "code",
   "execution_count": 1,
   "metadata": {},
   "outputs": [],
   "source": [
    "%matplotlib inline\n",
    "from graph import *\n",
    "from kernel import *\n",
    "from svm import SVM\n",
    "import seaborn as sns\n",
    "import matplotlib.pyplot as plt\n",
    "db = Database()"
   ]
  },
  {
   "cell_type": "code",
   "execution_count": 2,
   "metadata": {},
   "outputs": [],
   "source": [
    "#db_lab, db_nolab = db.gen_database_test(10, 10, 3, 4)\n",
    "ker=Kernel(0.05)\n",
    "\n"
   ]
  },
  {
   "cell_type": "code",
   "execution_count": 3,
   "metadata": {},
   "outputs": [],
   "source": [
    "#db.loaded = True\n",
    "#db.export_db(db_nolab,\"no_sing.dat\")\n",
    "db_nolab = db.import_db(\"no_sing.dat\")"
   ]
  },
  {
   "cell_type": "code",
   "execution_count": 4,
   "metadata": {},
   "outputs": [
    {
     "ename": "NameError",
     "evalue": "name 'db_lab' is not defined",
     "output_type": "error",
     "traceback": [
      "\u001b[0;31m---------------------------------------------------------------------------\u001b[0m",
      "\u001b[0;31mNameError\u001b[0m                                 Traceback (most recent call last)",
      "\u001b[0;32m<timed exec>\u001b[0m in \u001b[0;36m<module>\u001b[0;34m\u001b[0m\n",
      "\u001b[0;31mNameError\u001b[0m: name 'db_lab' is not defined"
     ]
    }
   ],
   "source": [
    "%%time\n",
    "s = SVM(db_lab, 0.7, 0.9, kernel=\"inv_kernel\")\n",
    "s.learn()\n",
    "s2 = SVM(db_nolab, 0.7, 0.9, kernel=\"inv_kernel\")\n",
    "s2.learn()\n",
    "print(\"Lab score\",s.cross_val_score(3),\" & nolab score\",s2.cross_val_score(3))"
   ]
  },
  {
   "cell_type": "code",
   "execution_count": 4,
   "metadata": {},
   "outputs": [
    {
     "ename": "ValueError",
     "evalue": "matmul: Input operand 1 has a mismatch in its core dimension 0, with gufunc signature (n?,k),(k,m?)->(n?,m?) (size 100 is different from 1)",
     "output_type": "error",
     "traceback": [
      "\u001b[0;31m---------------------------------------------------------------------------\u001b[0m",
      "\u001b[0;31mValueError\u001b[0m                                Traceback (most recent call last)",
      "\u001b[0;32m<ipython-input-4-565a4cb8e9bb>\u001b[0m in \u001b[0;36m<module>\u001b[0;34m\u001b[0m\n\u001b[0;32m----> 1\u001b[0;31m \u001b[0mraw\u001b[0m \u001b[0;34m=\u001b[0m \u001b[0mker\u001b[0m\u001b[0;34m.\u001b[0m\u001b[0mbuild_gram_matrix\u001b[0m\u001b[0;34m(\u001b[0m\u001b[0mdb_nolab\u001b[0m\u001b[0;34m[\u001b[0m\u001b[0;34m:\u001b[0m\u001b[0;34m,\u001b[0m\u001b[0;36m0\u001b[0m\u001b[0;34m]\u001b[0m\u001b[0;34m,\u001b[0m\u001b[0mkernel\u001b[0m\u001b[0;34m=\u001b[0m\u001b[0mker\u001b[0m\u001b[0;34m.\u001b[0m\u001b[0mraw_kernel\u001b[0m\u001b[0;34m)\u001b[0m\u001b[0;34m\u001b[0m\u001b[0;34m\u001b[0m\u001b[0m\n\u001b[0m\u001b[1;32m      2\u001b[0m \u001b[0minv\u001b[0m \u001b[0;34m=\u001b[0m \u001b[0mker\u001b[0m\u001b[0;34m.\u001b[0m\u001b[0mbuild_gram_matrix\u001b[0m\u001b[0;34m(\u001b[0m\u001b[0mdb_nolab\u001b[0m\u001b[0;34m[\u001b[0m\u001b[0;34m:\u001b[0m\u001b[0;34m,\u001b[0m\u001b[0;36m0\u001b[0m\u001b[0;34m]\u001b[0m\u001b[0;34m,\u001b[0m\u001b[0mkernel\u001b[0m\u001b[0;34m=\u001b[0m\u001b[0mker\u001b[0m\u001b[0;34m.\u001b[0m\u001b[0minv_kernel\u001b[0m\u001b[0;34m)\u001b[0m\u001b[0;34m\u001b[0m\u001b[0;34m\u001b[0m\u001b[0m\n\u001b[1;32m      3\u001b[0m \u001b[0mdiff\u001b[0m \u001b[0;34m=\u001b[0m \u001b[0mker\u001b[0m\u001b[0;34m.\u001b[0m\u001b[0mscale_and_compare\u001b[0m\u001b[0;34m(\u001b[0m\u001b[0mraw\u001b[0m\u001b[0;34m,\u001b[0m\u001b[0mker\u001b[0m\u001b[0;34m)\u001b[0m\u001b[0;34m\u001b[0m\u001b[0;34m\u001b[0m\u001b[0m\n\u001b[1;32m      4\u001b[0m \u001b[0;31m#donne ecart type une fois matrice normalisées\u001b[0m\u001b[0;34m\u001b[0m\u001b[0;34m\u001b[0m\u001b[0;34m\u001b[0m\u001b[0m\n\u001b[1;32m      5\u001b[0m \u001b[0mprint\u001b[0m\u001b[0;34m(\u001b[0m\u001b[0mdiff\u001b[0m\u001b[0;34m)\u001b[0m\u001b[0;34m\u001b[0m\u001b[0;34m\u001b[0m\u001b[0m\n",
      "\u001b[0;32m~/Documents/Projets/PLDAC/graph-kernels/kernel.py\u001b[0m in \u001b[0;36mbuild_gram_matrix\u001b[0;34m(self, db, kernel)\u001b[0m\n\u001b[1;32m    171\u001b[0m                 \u001b[0mA\u001b[0m \u001b[0;34m=\u001b[0m \u001b[0mnp\u001b[0m\u001b[0;34m.\u001b[0m\u001b[0mcopy\u001b[0m\u001b[0;34m(\u001b[0m\u001b[0mdb\u001b[0m\u001b[0;34m[\u001b[0m\u001b[0mi\u001b[0m\u001b[0;34m]\u001b[0m\u001b[0;34m)\u001b[0m\u001b[0;34m\u001b[0m\u001b[0;34m\u001b[0m\u001b[0m\n\u001b[1;32m    172\u001b[0m                 \u001b[0mB\u001b[0m \u001b[0;34m=\u001b[0m \u001b[0mnp\u001b[0m\u001b[0;34m.\u001b[0m\u001b[0mcopy\u001b[0m\u001b[0;34m(\u001b[0m\u001b[0mdb\u001b[0m\u001b[0;34m[\u001b[0m\u001b[0mj\u001b[0m\u001b[0;34m]\u001b[0m\u001b[0;34m)\u001b[0m\u001b[0;34m\u001b[0m\u001b[0;34m\u001b[0m\u001b[0m\n\u001b[0;32m--> 173\u001b[0;31m                 \u001b[0mker\u001b[0m \u001b[0;34m=\u001b[0m \u001b[0mkernel\u001b[0m\u001b[0;34m(\u001b[0m\u001b[0mA\u001b[0m\u001b[0;34m,\u001b[0m\u001b[0mB\u001b[0m\u001b[0;34m)\u001b[0m\u001b[0;34m\u001b[0m\u001b[0;34m\u001b[0m\u001b[0m\n\u001b[0m\u001b[1;32m    174\u001b[0m                 \u001b[0mgram\u001b[0m\u001b[0;34m[\u001b[0m\u001b[0mi\u001b[0m\u001b[0;34m,\u001b[0m \u001b[0mj\u001b[0m\u001b[0;34m]\u001b[0m \u001b[0;34m=\u001b[0m \u001b[0mker\u001b[0m\u001b[0;34m\u001b[0m\u001b[0;34m\u001b[0m\u001b[0m\n\u001b[1;32m    175\u001b[0m                 \u001b[0;32mif\u001b[0m \u001b[0mi\u001b[0m \u001b[0;34m!=\u001b[0m \u001b[0mj\u001b[0m\u001b[0;34m:\u001b[0m\u001b[0;34m\u001b[0m\u001b[0;34m\u001b[0m\u001b[0m\n",
      "\u001b[0;32m~/Documents/Projets/PLDAC/graph-kernels/kernel.py\u001b[0m in \u001b[0;36mraw_kernel\u001b[0;34m(self, A1, A2)\u001b[0m\n\u001b[1;32m     33\u001b[0m         \u001b[0mpx\u001b[0m \u001b[0;34m=\u001b[0m \u001b[0mnp\u001b[0m\u001b[0;34m.\u001b[0m\u001b[0mones\u001b[0m\u001b[0;34m(\u001b[0m\u001b[0;34m(\u001b[0m\u001b[0mn\u001b[0m\u001b[0;34m,\u001b[0m\u001b[0;36m1\u001b[0m\u001b[0;34m)\u001b[0m\u001b[0;34m)\u001b[0m\u001b[0;34m/\u001b[0m\u001b[0mn\u001b[0m\u001b[0;34m\u001b[0m\u001b[0;34m\u001b[0m\u001b[0m\n\u001b[1;32m     34\u001b[0m         \u001b[0mqx\u001b[0m \u001b[0;34m=\u001b[0m \u001b[0mnp\u001b[0m\u001b[0;34m.\u001b[0m\u001b[0mones\u001b[0m\u001b[0;34m(\u001b[0m\u001b[0;34m(\u001b[0m\u001b[0mn\u001b[0m\u001b[0;34m,\u001b[0m\u001b[0;36m1\u001b[0m\u001b[0;34m)\u001b[0m\u001b[0;34m)\u001b[0m\u001b[0;34m/\u001b[0m\u001b[0mn\u001b[0m\u001b[0;34m\u001b[0m\u001b[0;34m\u001b[0m\u001b[0m\n\u001b[0;32m---> 35\u001b[0;31m         \u001b[0;32mreturn\u001b[0m \u001b[0mnp\u001b[0m\u001b[0;34m.\u001b[0m\u001b[0msum\u001b[0m\u001b[0;34m(\u001b[0m\u001b[0;34m[\u001b[0m\u001b[0mself\u001b[0m\u001b[0;34m.\u001b[0m\u001b[0mmu\u001b[0m\u001b[0;34m(\u001b[0m\u001b[0mk\u001b[0m\u001b[0;34m)\u001b[0m \u001b[0;34m*\u001b[0m \u001b[0mqx\u001b[0m\u001b[0;34m.\u001b[0m\u001b[0mT\u001b[0m \u001b[0;34m@\u001b[0m \u001b[0mnp\u001b[0m\u001b[0;34m.\u001b[0m\u001b[0mpower\u001b[0m\u001b[0;34m(\u001b[0m\u001b[0mWx\u001b[0m\u001b[0;34m,\u001b[0m\u001b[0mk\u001b[0m\u001b[0;34m)\u001b[0m \u001b[0;34m@\u001b[0m \u001b[0mpx\u001b[0m \u001b[0;32mfor\u001b[0m \u001b[0mk\u001b[0m \u001b[0;32min\u001b[0m \u001b[0mrange\u001b[0m\u001b[0;34m(\u001b[0m\u001b[0mself\u001b[0m\u001b[0;34m.\u001b[0m\u001b[0mN\u001b[0m\u001b[0;34m)\u001b[0m\u001b[0;34m]\u001b[0m\u001b[0;34m)\u001b[0m\u001b[0;34m/\u001b[0m\u001b[0;34m(\u001b[0m\u001b[0mself\u001b[0m\u001b[0;34m.\u001b[0m\u001b[0mN\u001b[0m\u001b[0;34m)\u001b[0m\u001b[0;34m\u001b[0m\u001b[0;34m\u001b[0m\u001b[0m\n\u001b[0m\u001b[1;32m     36\u001b[0m \u001b[0;34m\u001b[0m\u001b[0m\n\u001b[1;32m     37\u001b[0m     \u001b[0;32mdef\u001b[0m \u001b[0minv_kernel\u001b[0m\u001b[0;34m(\u001b[0m\u001b[0mself\u001b[0m\u001b[0;34m,\u001b[0m \u001b[0mA1\u001b[0m\u001b[0;34m,\u001b[0m \u001b[0mA2\u001b[0m\u001b[0;34m)\u001b[0m\u001b[0;34m:\u001b[0m\u001b[0;34m\u001b[0m\u001b[0;34m\u001b[0m\u001b[0m\n",
      "\u001b[0;32m~/Documents/Projets/PLDAC/graph-kernels/kernel.py\u001b[0m in \u001b[0;36m<listcomp>\u001b[0;34m(.0)\u001b[0m\n\u001b[1;32m     33\u001b[0m         \u001b[0mpx\u001b[0m \u001b[0;34m=\u001b[0m \u001b[0mnp\u001b[0m\u001b[0;34m.\u001b[0m\u001b[0mones\u001b[0m\u001b[0;34m(\u001b[0m\u001b[0;34m(\u001b[0m\u001b[0mn\u001b[0m\u001b[0;34m,\u001b[0m\u001b[0;36m1\u001b[0m\u001b[0;34m)\u001b[0m\u001b[0;34m)\u001b[0m\u001b[0;34m/\u001b[0m\u001b[0mn\u001b[0m\u001b[0;34m\u001b[0m\u001b[0;34m\u001b[0m\u001b[0m\n\u001b[1;32m     34\u001b[0m         \u001b[0mqx\u001b[0m \u001b[0;34m=\u001b[0m \u001b[0mnp\u001b[0m\u001b[0;34m.\u001b[0m\u001b[0mones\u001b[0m\u001b[0;34m(\u001b[0m\u001b[0;34m(\u001b[0m\u001b[0mn\u001b[0m\u001b[0;34m,\u001b[0m\u001b[0;36m1\u001b[0m\u001b[0;34m)\u001b[0m\u001b[0;34m)\u001b[0m\u001b[0;34m/\u001b[0m\u001b[0mn\u001b[0m\u001b[0;34m\u001b[0m\u001b[0;34m\u001b[0m\u001b[0m\n\u001b[0;32m---> 35\u001b[0;31m         \u001b[0;32mreturn\u001b[0m \u001b[0mnp\u001b[0m\u001b[0;34m.\u001b[0m\u001b[0msum\u001b[0m\u001b[0;34m(\u001b[0m\u001b[0;34m[\u001b[0m\u001b[0mself\u001b[0m\u001b[0;34m.\u001b[0m\u001b[0mmu\u001b[0m\u001b[0;34m(\u001b[0m\u001b[0mk\u001b[0m\u001b[0;34m)\u001b[0m \u001b[0;34m*\u001b[0m \u001b[0mqx\u001b[0m\u001b[0;34m.\u001b[0m\u001b[0mT\u001b[0m \u001b[0;34m@\u001b[0m \u001b[0mnp\u001b[0m\u001b[0;34m.\u001b[0m\u001b[0mpower\u001b[0m\u001b[0;34m(\u001b[0m\u001b[0mWx\u001b[0m\u001b[0;34m,\u001b[0m\u001b[0mk\u001b[0m\u001b[0;34m)\u001b[0m \u001b[0;34m@\u001b[0m \u001b[0mpx\u001b[0m \u001b[0;32mfor\u001b[0m \u001b[0mk\u001b[0m \u001b[0;32min\u001b[0m \u001b[0mrange\u001b[0m\u001b[0;34m(\u001b[0m\u001b[0mself\u001b[0m\u001b[0;34m.\u001b[0m\u001b[0mN\u001b[0m\u001b[0;34m)\u001b[0m\u001b[0;34m]\u001b[0m\u001b[0;34m)\u001b[0m\u001b[0;34m/\u001b[0m\u001b[0;34m(\u001b[0m\u001b[0mself\u001b[0m\u001b[0;34m.\u001b[0m\u001b[0mN\u001b[0m\u001b[0;34m)\u001b[0m\u001b[0;34m\u001b[0m\u001b[0;34m\u001b[0m\u001b[0m\n\u001b[0m\u001b[1;32m     36\u001b[0m \u001b[0;34m\u001b[0m\u001b[0m\n\u001b[1;32m     37\u001b[0m     \u001b[0;32mdef\u001b[0m \u001b[0minv_kernel\u001b[0m\u001b[0;34m(\u001b[0m\u001b[0mself\u001b[0m\u001b[0;34m,\u001b[0m \u001b[0mA1\u001b[0m\u001b[0;34m,\u001b[0m \u001b[0mA2\u001b[0m\u001b[0;34m)\u001b[0m\u001b[0;34m:\u001b[0m\u001b[0;34m\u001b[0m\u001b[0;34m\u001b[0m\u001b[0m\n",
      "\u001b[0;31mValueError\u001b[0m: matmul: Input operand 1 has a mismatch in its core dimension 0, with gufunc signature (n?,k),(k,m?)->(n?,m?) (size 100 is different from 1)"
     ]
    }
   ],
   "source": [
    "raw = ker.build_gram_matrix(db_nolab[:,0],kernel=ker.raw_kernel)\n",
    "inv = ker.build_gram_matrix(db_nolab[:,0],kernel=ker.inv_kernel)\n",
    "diff = ker.scale_and_compare(raw,ker)\n",
    "#donne ecart type une fois matrice normalisées\n",
    "print(diff)\n",
    "sns.heatmap(inv/np.max(inv))"
   ]
  },
  {
   "cell_type": "code",
   "execution_count": 4,
   "metadata": {},
   "outputs": [
    {
     "data": {
      "text/plain": [
       "<matplotlib.axes._subplots.AxesSubplot at 0x7fb7cfdf1cf8>"
      ]
     },
     "execution_count": 4,
     "metadata": {},
     "output_type": "execute_result"
    },
    {
     "data": {
      "image/png": "[encoded data removed]",
      "text/plain": [
       "<Figure size 432x288 with 2 Axes>"
      ]
     },
     "metadata": {
      "needs_background": "light"
     },
     "output_type": "display_data"
    }
   ],
   "source": [
    "plt.clf()\n",
    "plt.title(\"Raw\")\n",
    "sns.heatmap(ker.build_gram_matrix(db_nolab[:,0],kernel=ker.raw_kernel))"
   ]
  },
  {
   "cell_type": "code",
   "execution_count": 5,
   "metadata": {},
   "outputs": [
    {
     "data": {
      "text/plain": [
       "<matplotlib.axes._subplots.AxesSubplot at 0x7fb7cdd08438>"
      ]
     },
     "execution_count": 5,
     "metadata": {},
     "output_type": "execute_result"
    },
    {
     "data": {
      "image/png": "[encoded data removed]",
      "text/plain": [
       "<Figure size 432x288 with 2 Axes>"
      ]
     },
     "metadata": {
      "needs_background": "light"
     },
     "output_type": "display_data"
    }
   ],
   "source": [
    "plt.clf()\n",
    "plt.title(\"Inverse\")\n",
    "sns.heatmap(ker.build_gram_matrix(db_nolab[:,0],kernel=ker.inv_kernel))"
   ]
  },
  {
   "cell_type": "code",
   "execution_count": 4,
   "metadata": {},
   "outputs": [
    {
     "data": {
      "text/plain": [
       "<matplotlib.axes._subplots.AxesSubplot at 0x7f08f8a8e390>"
      ]
     },
     "execution_count": 4,
     "metadata": {},
     "output_type": "execute_result"
    },
    {
     "data": {
      "image/png": "[encoded data removed]",
      "text/plain": [
       "<Figure size 432x288 with 2 Axes>"
      ]
     },
     "metadata": {
      "needs_background": "light"
     },
     "output_type": "display_data"
    }
   ],
   "source": [
    "plt.clf()\n",
    "plt.title(\"Sylv eq\")\n",
    "sns.heatmap(ker.build_gram_matrix(db_nolab[:,0],kernel=ker.sylv_eq_kernel))"
   ]
  },
  {
   "cell_type": "code",
   "execution_count": 7,
   "metadata": {},
   "outputs": [
    {
     "data": {
      "text/plain": [
       "<matplotlib.axes._subplots.AxesSubplot at 0x7f079ed84710>"
      ]
     },
     "execution_count": 7,
     "metadata": {},
     "output_type": "execute_result"
    },
    {
     "data": {
      "image/png": "[encoded data removed]",
      "text/plain": [
       "<Figure size 432x288 with 2 Axes>"
      ]
     },
     "metadata": {
      "needs_background": "light"
     },
     "output_type": "display_data"
    }
   ],
   "source": [
    "plt.clf()\n",
    "plt.title(\"Conj grad\")\n",
    "sns.heatmap(ker.build_gram_matrix(db_nolab[:,0],kernel=ker.conj_grad_kernel))"
   ]
  },
  {
   "cell_type": "code",
   "execution_count": 8,
   "metadata": {},
   "outputs": [
    {
     "data": {
      "text/plain": [
       "<matplotlib.axes._subplots.AxesSubplot at 0x7f079ed2b0b8>"
      ]
     },
     "execution_count": 8,
     "metadata": {},
     "output_type": "execute_result"
    },
    {
     "data": {
      "image/png": "[encoded data removed]",
      "text/plain": [
       "<Figure size 432x288 with 2 Axes>"
      ]
     },
     "metadata": {
      "needs_background": "light"
     },
     "output_type": "display_data"
    }
   ],
   "source": [
    "plt.clf()\n",
    "plt.title(\"Fixed point\")\n",
    "sns.heatmap(ker.build_gram_matrix(db_nolab[:,0],kernel=ker.fixed_point_kernel))"
   ]
  },
  {
   "cell_type": "code",
   "execution_count": 9,
   "metadata": {},
   "outputs": [
    {
     "data": {
      "text/plain": [
       "<matplotlib.axes._subplots.AxesSubplot at 0x7f079eda73c8>"
      ]
     },
     "execution_count": 9,
     "metadata": {},
     "output_type": "execute_result"
    },
    {
     "data": {
      "image/png": "[encoded data removed]",
      "text/plain": [
       "<Figure size 432x288 with 2 Axes>"
      ]
     },
     "metadata": {
      "needs_background": "light"
     },
     "output_type": "display_data"
    }
   ],
   "source": [
    "plt.clf()\n",
    "plt.title(\"Spectral Decomp\")\n",
    "sns.heatmap(ker.build_gram_matrix(db_nolab[:,0],kernel=ker.spec_decomp_kernel))"
   ]
  },
  {
   "cell_type": "code",
   "execution_count": null,
   "metadata": {
    "scrolled": true
   },
   "outputs": [],
   "source": [
    "%%time\n",
    "db = Database()\n",
    "d = []\n",
    "N = 30\n",
    "for _ in range(N):\n",
    "    db2 = db.gen_database_test(9, 5, 5, 3)\n",
    "    s = SVM(db2, 0.7, 0.9, kernel=\"inv_kernel\")\n",
    "    d.append(s.cross_val_score(5))\n",
    "print(\"Mean acc = \",sum([x[\"accuracy\"] for x in d])/N)\n",
    "print(\"Mean time = \",sum([x[\"time\"] for x in d])/N)\n",
    "print(\"Mean std = \",sum([x[\"stddev\"] for x in d])/N)\n",
    "#rajouter labels\n",
    "# somme de k = Wx.shape ou 10xWx.shape ne change rien\n",
    "#normalisé bcp plus rapide (pas toujour)\n",
    "# certains ont un meilleur score avec d'autres que eux mêmes \n",
    "#affichage des graphes et dérouler l'algo à la main pour les carrés noir\n",
    "#faire avec labels 2~5 et essayer d'avoir des distributions de labels pas trop différentes entre les toplogies"
   ]
  },
  {
   "cell_type": "code",
   "execution_count": null,
   "metadata": {},
   "outputs": [],
   "source": [
    "dbA.shape"
   ]
  },
  {
   "cell_type": "markdown",
   "metadata": {},
   "source": [
    "## All graphs\n",
    "Star"
   ]
  },
  {
   "cell_type": "code",
   "execution_count": null,
   "metadata": {},
   "outputs": [],
   "source": [
    "G = db.gen_graph(\"star\",5,3)\n",
    "pos=nx.spring_layout(G)\n",
    "nx.draw(G,pos)\n",
    "plt.figure()\n",
    "nx.draw(G,pos)\n",
    "nx.draw_networkx_edge_labels(G,pos,edge_labels={(u,v):e[\"label\"] for (u,v,e) in G.edges(data=True)})\n",
    "\n",
    "G2=db.alter_graph_struct(G,\"star\",2)\n",
    "plt.figure()\n",
    "pos=nx.spring_layout(G2)\n",
    "nx.draw(G2,pos)\n",
    "nx.draw_networkx_edge_labels(G2,pos,edge_labels={(u,v):e[\"label\"] for (u,v,e) in G2.edges(data=True)})\n",
    "\n",
    "G3=db.alter_graph_labels(G,2)\n",
    "print(G3)\n",
    "plt.figure()\n",
    "pos=nx.spring_layout(G3)\n",
    "nx.draw(G3,pos)\n",
    "nx.draw_networkx_edge_labels(G3,pos,edge_labels={(u,v):e[\"label\"] for (u,v,e) in G3.edges(data=True)})"
   ]
  },
  {
   "cell_type": "markdown",
   "metadata": {},
   "source": [
    "Ring"
   ]
  },
  {
   "cell_type": "code",
   "execution_count": null,
   "metadata": {},
   "outputs": [],
   "source": [
    "G = db.gen_graph(\"ring\",5,3)\n",
    "pos=nx.spring_layout(G)\n",
    "nx.draw(G,pos)\n",
    "plt.figure()\n",
    "nx.draw(G,pos)\n",
    "nx.draw_networkx_edge_labels(G,pos,edge_labels={(u,v):e[\"label\"] for (u,v,e) in G.edges(data=True)})\n",
    "\n",
    "G2=db.alter_graph_struct(G,\"ring\",2)\n",
    "plt.figure()\n",
    "pos=nx.spring_layout(G2)\n",
    "nx.draw(G2,pos)\n",
    "nx.draw_networkx_edge_labels(G2,pos,edge_labels={(u,v):e[\"label\"] for (u,v,e) in G2.edges(data=True)})\n",
    "\n",
    "G3=db.alter_graph_labels(G,2)\n",
    "print(G3)\n",
    "plt.figure()\n",
    "pos=nx.spring_layout(G3)\n",
    "nx.draw(G3,pos)\n",
    "nx.draw_networkx_edge_labels(G3,pos,edge_labels={(u,v):e[\"label\"] for (u,v,e) in G3.edges(data=True)})"
   ]
  },
  {
   "cell_type": "markdown",
   "metadata": {},
   "source": [
    "Tree"
   ]
  },
  {
   "cell_type": "code",
   "execution_count": null,
   "metadata": {},
   "outputs": [],
   "source": [
    "G = db.gen_graph(\"tree\",9,3)\n",
    "pos=nx.spring_layout(G)\n",
    "nx.draw(G,pos)\n",
    "plt.figure()\n",
    "nx.draw(G,pos)\n",
    "nx.draw_networkx_edge_labels(G,pos,edge_labels={(u,v):e[\"label\"] for (u,v,e) in G.edges(data=True)})\n",
    "\n",
    "G2=db.alter_graph_struct(G,\"tree\",2)\n",
    "plt.figure()\n",
    "pos=nx.spring_layout(G2)\n",
    "nx.draw(G2,pos)\n",
    "nx.draw_networkx_edge_labels(G2,pos,edge_labels={(u,v):e[\"label\"] for (u,v,e) in G2.edges(data=True)})\n",
    "\n",
    "G3=db.alter_graph_labels(G,2)\n",
    "print(G3)\n",
    "plt.figure()\n",
    "pos=nx.spring_layout(G3)\n",
    "nx.draw(G3,pos)\n",
    "nx.draw_networkx_edge_labels(G3,pos,edge_labels={(u,v):e[\"label\"] for (u,v,e) in G3.edges(data=True)})"
   ]
  },
  {
   "cell_type": "markdown",
   "metadata": {},
   "source": [
    "# Points fixes : faire varier lambda et montrer différence temps de convergence & verifier si lambda plus haut donne de meilleur accuracy"
   ]
  },
  {
   "cell_type": "code",
   "execution_count": null,
   "metadata": {},
   "outputs": [],
   "source": [
    "xs = []\n",
    "scores = []\n",
    "times = []\n",
    "N = 500\n",
    "for x in range(N):\n",
    "    try : \n",
    "        s = SVM(db=db_lab, ratio_split=0.5, lbd=x/N, kernel=\"fixed_point_kernel\")\n",
    "        t=s.learn()\n",
    "        scores.append(s.score())\n",
    "        xs.append(x/N)\n",
    "        times.append(t)\n",
    "    except:\n",
    "        break\n",
    "print(scores)\n",
    "print(times)\n",
    "plt.figure()\n",
    "plt.plot(xs,scores,label=\"Accuracy\")\n",
    "plt.plot(xs,times,label=\"Computation time\")\n",
    "plt.legend()"
   ]
  },
  {
   "cell_type": "markdown",
   "metadata": {},
   "source": [
    "# Computation time for different kernels VARIATION ON LAMBDA"
   ]
  },
  {
   "cell_type": "code",
   "execution_count": null,
   "metadata": {
    "scrolled": true
   },
   "outputs": [],
   "source": [
    "xs = []\n",
    "t_raw = []\n",
    "t_inv = []\n",
    "t_syl = []\n",
    "t_fix = []\n",
    "t_conj = []\n",
    "t_spec = []\n",
    "N = 10\n",
    "for x in range(1,N):\n",
    "    xs.append(x/N)\n",
    "    #raw\n",
    "    s = SVM(db=db_lab, ratio_split=0.7, lbd=x/N, kernel=\"raw_kernel\")\n",
    "    t=s.learn()\n",
    "    t_raw.append(t)\n",
    "    #inv\n",
    "    s = SVM(db=db_lab, ratio_split=0.7, lbd=x/N, kernel=\"inv_kernel\")\n",
    "    t=s.learn()\n",
    "    t_inv.append(t)\n",
    "    #syl\n",
    "    s = SVM(db=db_lab, ratio_split=0.7, lbd=x/N, kernel=\"sylv_eq_kernel\")\n",
    "    #t=s.learn()\n",
    "    t_syl.append(0)\n",
    "    #conj\n",
    "    s = SVM(db=db_lab, ratio_split=0.7, lbd=x/N, kernel=\"conj_grad_kernel\")\n",
    "    t=s.learn()\n",
    "    t_conj.append(t)\n",
    "    #conj\n",
    "    s = SVM(db=db_lab, ratio_split=0.7, lbd=x/N, kernel=\"spec_decomp_kernel\")\n",
    "    t=s.learn()\n",
    "    t_spec.append(t)\n",
    "    try : \n",
    "        s = SVM(db=db_lab, ratio_split=0.7, lbd=x/N, kernel=\"fixed_point_kernel\")\n",
    "        t=s.learn()\n",
    "        t_fix.append(t)\n",
    "    except:\n",
    "        pass"
   ]
  },
  {
   "cell_type": "code",
   "execution_count": null,
   "metadata": {},
   "outputs": [],
   "source": [
    "plt.figure()\n",
    "plt.yscale(\"log\") \n",
    "plt.plot(xs,t_raw,label=\"Raw Kernel\")\n",
    "plt.plot(xs,t_inv,label=\"Inverse Kernel\")\n",
    "plt.plot(xs,t_syl,label=\"Sylvester Equation Kernel\")\n",
    "plt.plot(xs[0:len(t_fix)],t_fix,label=\"Fixed Point Kernel\")\n",
    "plt.plot(xs,t_conj,label=\"Conjugate Gradient Kernel\")\n",
    "plt.plot(xs,t_spec,label=\"Spectral Decomposition Kernel\")\n",
    "plt.legend()"
   ]
  },
  {
   "cell_type": "markdown",
   "metadata": {},
   "source": [
    "# Accuracy for different kernels VARIATION ON LAMBDA"
   ]
  },
  {
   "cell_type": "code",
   "execution_count": null,
   "metadata": {},
   "outputs": [],
   "source": [
    "xs = []\n",
    "t_raw = []\n",
    "t_inv = []\n",
    "t_syl = []\n",
    "t_fix = []\n",
    "t_conj = []\n",
    "t_spec = []\n",
    "N = 10\n",
    "for x in range(1,N):\n",
    "    xs.append(x/N)\n",
    "    #raw\n",
    "    s = SVM(db=db_lab, ratio_split=0.7, lbd=x/N, kernel=\"raw_kernel\")\n",
    "    t=s.learn()\n",
    "    t_raw.append(s.score())\n",
    "    #inv\n",
    "    s = SVM(db=db_lab, ratio_split=0.7, lbd=x/N, kernel=\"inv_kernel\")\n",
    "    t=s.learn()\n",
    "    t_inv.append(s.score())\n",
    "    #syl\n",
    "    s = SVM(db=db_lab, ratio_split=0.7, lbd=x/N, kernel=\"sylv_eq_kernel\")\n",
    "    #t=s.learn()\n",
    "    t_syl.append(0)\n",
    "    #conj\n",
    "    s = SVM(db=db_lab, ratio_split=0.7, lbd=x/N, kernel=\"conj_grad_kernel\")\n",
    "    t=s.learn()\n",
    "    t_conj.append(s.score())\n",
    "    #conj\n",
    "    s = SVM(db=db_lab, ratio_split=0.7, lbd=x/N, kernel=\"spec_decomp_kernel\")\n",
    "    #t=s.learn()\n",
    "    t_spec.append(0)\n",
    "    try : \n",
    "        s = SVM(db=db_lab, ratio_split=0.7, lbd=x/N, kernel=\"fixed_point_kernel\")\n",
    "        t=s.learn()\n",
    "        t_fix.append(s.score())\n",
    "    except:\n",
    "        pass"
   ]
  },
  {
   "cell_type": "code",
   "execution_count": null,
   "metadata": {},
   "outputs": [],
   "source": [
    "plt.figure()\n",
    "plt.plot(xs,t_raw,label=\"Raw Kernel\")\n",
    "plt.plot(xs,t_inv,label=\"Inverse Kernel\")\n",
    "plt.plot(xs,t_syl,label=\"Sylvester Equation Kernel\")\n",
    "plt.plot(xs[0:len(t_fix)],t_fix,label=\"Fixed Point Kernel\")\n",
    "plt.plot(xs,t_conj,label=\"Conjugate Gradient Kernel\")\n",
    "plt.plot(xs,t_spec,label=\"Spectral Decomposition Kernel\")\n",
    "plt.legend()"
   ]
  },
  {
   "cell_type": "markdown",
   "metadata": {},
   "source": [
    "# Computation time for different kernels VARIATION ON NB OF GRAPHS"
   ]
  },
  {
   "cell_type": "markdown",
   "metadata": {},
   "source": [
    "# verifier si approx ameliore ou empire accuracy et regarder temps calcul"
   ]
  },
  {
   "cell_type": "code",
   "execution_count": null,
   "metadata": {},
   "outputs": [],
   "source": []
  }
 ],
 "metadata": {
  "kernelspec": {
   "display_name": "Python 3",
   "language": "python",
   "name": "python3"
  },
  "language_info": {
   "codemirror_mode": {
    "name": "ipython",
    "version": 3
   },
   "file_extension": ".py",
   "mimetype": "text/x-python",
   "name": "python",
   "nbconvert_exporter": "python",
   "pygments_lexer": "ipython3",
   "version": "3.7.3"
  }
 },
 "nbformat": 4,
 "nbformat_minor": 2
}
