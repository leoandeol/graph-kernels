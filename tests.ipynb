{
 "cells": [
  {
   "cell_type": "code",
   "execution_count": 4,
   "metadata": {},
   "outputs": [],
   "source": [
    "from graph import *\n",
    "%matplotlib inline"
   ]
  },
  {
   "cell_type": "markdown",
   "metadata": {},
   "source": [
    "-> ajouter poids ou non dans graphe ?\n",
    "\n",
    "-> todo label tridimensionel\n",
    "\n",
    "-> calculer matrice labels\n",
    "\n",
    "-> envoyer visualisation"
   ]
  },
  {
   "cell_type": "code",
   "execution_count": 5,
   "metadata": {},
   "outputs": [
    {
     "name": "stdout",
     "output_type": "stream",
     "text": [
      "CPU times: user 352 ms, sys: 0 ns, total: 352 ms\n",
      "Wall time: 372 ms\n"
     ]
    }
   ],
   "source": [
    "%%time\n",
    "db, path = gen_export_db(50,20,10,5,0.05)"
   ]
  },
  {
   "cell_type": "code",
   "execution_count": 6,
   "metadata": {
    "scrolled": true
   },
   "outputs": [
    {
     "data": {
      "text/plain": [
       "'dbs/db-1549988464.8259.dat'"
      ]
     },
     "execution_count": 6,
     "metadata": {},
     "output_type": "execute_result"
    }
   ],
   "source": [
    "path"
   ]
  },
  {
   "cell_type": "code",
   "execution_count": 7,
   "metadata": {},
   "outputs": [
    {
     "data": {
      "text/plain": [
       "(1050, 2)"
      ]
     },
     "execution_count": 7,
     "metadata": {},
     "output_type": "execute_result"
    }
   ],
   "source": [
    "db.shape"
   ]
  },
  {
   "cell_type": "code",
   "execution_count": 8,
   "metadata": {},
   "outputs": [
    {
     "data": {
      "text/plain": [
       "array(['grid', 'grid', 'grid', ..., 'ring', 'ring', 'ring'], dtype=object)"
      ]
     },
     "execution_count": 8,
     "metadata": {},
     "output_type": "execute_result"
    }
   ],
   "source": [
    "db[:,1]"
   ]
  },
  {
   "cell_type": "code",
   "execution_count": 9,
   "metadata": {},
   "outputs": [
    {
     "data": {
      "text/plain": [
       "(array(['chain', 'cube', 'grid', 'ring', 'star', 'tree'], dtype=object),\n",
       " array([105, 168, 294, 147, 168, 168]))"
      ]
     },
     "execution_count": 9,
     "metadata": {},
     "output_type": "execute_result"
    }
   ],
   "source": [
    "np.unique(db[:,1],return_counts=True)"
   ]
  },
  {
   "cell_type": "code",
   "execution_count": 1,
   "metadata": {},
   "outputs": [],
   "source": [
    "%matplotlib inline\n",
    "from graph import *\n",
    "from kernels import *"
   ]
  },
  {
   "cell_type": "code",
   "execution_count": 3,
   "metadata": {},
   "outputs": [
    {
     "name": "stdout",
     "output_type": "stream",
     "text": [
      "max N 20\n",
      "max M 80\n",
      "0.8333333333333334\n",
      "CPU times: user 13.4 s, sys: 20.9 s, total: 34.3 s\n",
      "Wall time: 4.33 s\n"
     ]
    },
    {
     "data": {
      "image/png": "[encoded data removed]",
      "text/plain": [
       "<Figure size 432x288 with 2 Axes>"
      ]
     },
     "metadata": {},
     "output_type": "display_data"
    }
   ],
   "source": [
    "%%time\n",
    "db2, path = gen_export_db(4,4,10,5,0.1,True)\n",
    "test(db2)\n",
    "# somme de k = Wx.shape ou 10xWx.shape ne change rien\n",
    "#normalisé bcp plus rapide (pas toujour)\n",
    "# certains ont un meilleur score avec d'autres que eux mêmes \n",
    "#affichage des graphes et dérouler l'algo à la main pour les carrés noir\n",
    "#faire avec labels 2~5 et essayer d'avoir des distributions de labels pas trop différentes entre les toplogies"
   ]
  },
  {
   "cell_type": "code",
   "execution_count": 9,
   "metadata": {},
   "outputs": [
    {
     "ename": "SyntaxError",
     "evalue": "invalid syntax (<ipython-input-9-b615c2e80e1f>, line 3)",
     "output_type": "error",
     "traceback": [
      "\u001b[0;36m  File \u001b[0;32m\"<ipython-input-9-b615c2e80e1f>\"\u001b[0;36m, line \u001b[0;32m3\u001b[0m\n\u001b[0;31m    Y = []aa\u001b[0m\n\u001b[0m           ^\u001b[0m\n\u001b[0;31mSyntaxError\u001b[0m\u001b[0;31m:\u001b[0m invalid syntax\n"
     ]
    }
   ],
   "source": [
    "from time import time\n",
    "X = []\n",
    "Y = []aa\n",
    "#on varie nb altered\n",
    "for i in range(1,4):\n",
    "    X.append(i*3)\n",
    "    db2, path = gen_export_db(3,i,10,5,0.05)\n",
    "    t = time()\n",
    "    test(db2)\n",
    "    diff = time()-t\n",
    "    Y.append(diff)\n",
    "import matplotlib.pyplot as plt\n",
    "plt.plot(X,Y)\n",
    "plt.title(\"Complexité du calcul du noyau + apprentissage SVM en fonction du nombre de graphes de 8<=N<=10\")"
   ]
  },
  {
   "cell_type": "code",
   "execution_count": null,
   "metadata": {},
   "outputs": [],
   "source": [
    "import seaborn as sns"
   ]
  },
  {
   "cell_type": "code",
   "execution_count": null,
   "metadata": {},
   "outputs": [],
   "source": [
    "v = np.random.random((5))\n",
    "v2 = np.random.random((5))\n",
    "v3 = np.random.random((5))\n",
    "v4 = np.random.random((5))\n",
    "#v /= np.linalg.norm(v)\n",
    "#v2 /= np.linalg.norm(v2)\n",
    "#v3 /= np.linalg.norm(v3)\n",
    "#v4 /= np.linalg.norm(v4)\n",
    "db = [v,v2,v3,v4]\n",
    "gram = np.empty((len(db),len(db)))\n",
    "for i in range(len(db)):\n",
    "    for j in range(i+1):\n",
    "        ker = np.dot(db[i],db[j])\n",
    "        gram[i, j] = ker\n",
    "        if i != j:\n",
    "            gram[j, i] = ker\n",
    "sns.heatmap(gram)"
   ]
  },
  {
   "cell_type": "code",
   "execution_count": 1,
   "metadata": {},
   "outputs": [],
   "source": [
    "from graph import *"
   ]
  },
  {
   "cell_type": "code",
   "execution_count": 2,
   "metadata": {},
   "outputs": [
    {
     "name": "stderr",
     "output_type": "stream",
     "text": [
      "c:\\users\\user\\appdata\\local\\programs\\python\\python37\\lib\\site-packages\\networkx\\drawing\\nx_pylab.py:611: MatplotlibDeprecationWarning: isinstance(..., numbers.Number)\n",
      "  if cb.is_numlike(alpha):\n"
     ]
    },
    {
     "data": {
      "image/png": "[encoded data removed]",
      "text/plain": [
       "<Figure size 432x288 with 1 Axes>"
      ]
     },
     "metadata": {},
     "output_type": "display_data"
    }
   ],
   "source": [
    "gen_and_draw(\"star\",10,1)"
   ]
  },
  {
   "cell_type": "code",
   "execution_count": 4,
   "metadata": {},
   "outputs": [],
   "source": [
    "GS = gen_graph(\"star\",2,1)\n",
    "A_ = nx.to_numpy_matrix(GS).T\n",
    "D = np.diagflat(1/np.sum(A_,axis=0))\n",
    "A = A_ @ D"
   ]
  },
  {
   "cell_type": "code",
   "execution_count": 13,
   "metadata": {},
   "outputs": [
    {
     "data": {
      "text/plain": [
       "matrix([[1., 1., 1.]])"
      ]
     },
     "execution_count": 13,
     "metadata": {},
     "output_type": "execute_result"
    }
   ],
   "source": [
    "np.sum(A,axis=0)"
   ]
  },
  {
   "cell_type": "code",
   "execution_count": 14,
   "metadata": {},
   "outputs": [],
   "source": [
    "G2 = gen_graph(\"star\",3,1)\n",
    "A_ = nx.to_numpy_matrix(G2).T\n",
    "D = np.diagflat(1/np.sum(A_,axis=0))\n",
    "A2 = A_ @ D"
   ]
  },
  {
   "cell_type": "code",
   "execution_count": 15,
   "metadata": {},
   "outputs": [
    {
     "data": {
      "text/plain": [
       "matrix([[1., 1., 1., 1.]])"
      ]
     },
     "execution_count": 15,
     "metadata": {},
     "output_type": "execute_result"
    }
   ],
   "source": [
    "np.sum(A2,axis=0)"
   ]
  },
  {
   "cell_type": "code",
   "execution_count": 16,
   "metadata": {},
   "outputs": [],
   "source": [
    "W = np.kron(A,A2)"
   ]
  },
  {
   "cell_type": "code",
   "execution_count": 17,
   "metadata": {},
   "outputs": [
    {
     "data": {
      "text/plain": [
       "matrix([[1., 1., 1., 1., 1., 1., 1., 1., 1., 1., 1., 1.]])"
      ]
     },
     "execution_count": 17,
     "metadata": {},
     "output_type": "execute_result"
    }
   ],
   "source": [
    "np.sum(W,axis=0)"
   ]
  },
  {
   "cell_type": "code",
   "execution_count": 21,
   "metadata": {},
   "outputs": [
    {
     "data": {
      "text/plain": [
       "matrix([[0.        , 0.        , 0.        , 0.        , 0.        ,\n",
       "         1.        , 1.        , 1.        , 0.        , 1.        ,\n",
       "         1.        , 1.        ],\n",
       "        [0.        , 0.        , 0.        , 0.        , 0.33333333,\n",
       "         0.        , 0.        , 0.        , 0.33333333, 0.        ,\n",
       "         0.        , 0.        ],\n",
       "        [0.        , 0.        , 0.        , 0.        , 0.33333333,\n",
       "         0.        , 0.        , 0.        , 0.33333333, 0.        ,\n",
       "         0.        , 0.        ],\n",
       "        [0.        , 0.        , 0.        , 0.        , 0.33333333,\n",
       "         0.        , 0.        , 0.        , 0.33333333, 0.        ,\n",
       "         0.        , 0.        ],\n",
       "        [0.        , 0.5       , 0.5       , 0.5       , 0.        ,\n",
       "         0.        , 0.        , 0.        , 0.        , 0.        ,\n",
       "         0.        , 0.        ],\n",
       "        [0.16666667, 0.        , 0.        , 0.        , 0.        ,\n",
       "         0.        , 0.        , 0.        , 0.        , 0.        ,\n",
       "         0.        , 0.        ],\n",
       "        [0.16666667, 0.        , 0.        , 0.        , 0.        ,\n",
       "         0.        , 0.        , 0.        , 0.        , 0.        ,\n",
       "         0.        , 0.        ],\n",
       "        [0.16666667, 0.        , 0.        , 0.        , 0.        ,\n",
       "         0.        , 0.        , 0.        , 0.        , 0.        ,\n",
       "         0.        , 0.        ],\n",
       "        [0.        , 0.5       , 0.5       , 0.5       , 0.        ,\n",
       "         0.        , 0.        , 0.        , 0.        , 0.        ,\n",
       "         0.        , 0.        ],\n",
       "        [0.16666667, 0.        , 0.        , 0.        , 0.        ,\n",
       "         0.        , 0.        , 0.        , 0.        , 0.        ,\n",
       "         0.        , 0.        ],\n",
       "        [0.16666667, 0.        , 0.        , 0.        , 0.        ,\n",
       "         0.        , 0.        , 0.        , 0.        , 0.        ,\n",
       "         0.        , 0.        ],\n",
       "        [0.16666667, 0.        , 0.        , 0.        , 0.        ,\n",
       "         0.        , 0.        , 0.        , 0.        , 0.        ,\n",
       "         0.        , 0.        ]])"
      ]
     },
     "execution_count": 21,
     "metadata": {},
     "output_type": "execute_result"
    }
   ],
   "source": [
    "W"
   ]
  },
  {
   "cell_type": "code",
   "execution_count": 5,
   "metadata": {},
   "outputs": [
    {
     "data": {
      "text/plain": [
       "matrix([[0. , 1. , 1. ],\n",
       "        [0.5, 0. , 0. ],\n",
       "        [0.5, 0. , 0. ]])"
      ]
     },
     "execution_count": 5,
     "metadata": {},
     "output_type": "execute_result"
    }
   ],
   "source": [
    "A"
   ]
  },
  {
   "cell_type": "code",
   "execution_count": 9,
   "metadata": {},
   "outputs": [
    {
     "data": {
      "text/plain": [
       "4"
      ]
     },
     "execution_count": 9,
     "metadata": {},
     "output_type": "execute_result"
    }
   ],
   "source": [
    "len(A.nonzero()[0])"
   ]
  },
  {
   "cell_type": "code",
   "execution_count": null,
   "metadata": {},
   "outputs": [],
   "source": []
  }
 ],
 "metadata": {
  "kernelspec": {
   "display_name": "Python 3",
   "language": "python",
   "name": "python3"
  },
  "language_info": {
   "codemirror_mode": {
    "name": "ipython",
    "version": 3
   },
   "file_extension": ".py",
   "mimetype": "text/x-python",
   "name": "python",
   "nbconvert_exporter": "python",
   "pygments_lexer": "ipython3",
   "version": "3.5.3"
  }
 },
 "nbformat": 4,
 "nbformat_minor": 2
}
