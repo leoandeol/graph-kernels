{
 "cells": [
  {
   "cell_type": "code",
   "execution_count": 1,
   "metadata": {},
   "outputs": [],
   "source": [
    "%matplotlib inline\n",
    "from graph import *\n",
    "from kernel import *\n",
    "from svm import SVM"
   ]
  },
  {
   "cell_type": "markdown",
   "metadata": {},
   "source": [
    "-> todo label tridimensionel\n",
    "\n",
    "-> calculer matrice labels"
   ]
  },
  {
   "cell_type": "code",
   "execution_count": 18,
   "metadata": {
    "scrolled": true
   },
   "outputs": [
    {
     "name": "stdout",
     "output_type": "stream",
     "text": [
      "Mean acc =  0.841666666666667\n",
      "Mean time =  0.7726022005081177\n",
      "Mean std =  0.11515132703199653\n",
      "CPU times: user 15.7 s, sys: 0 ns, total: 15.7 s\n",
      "Wall time: 15.8 s\n"
     ]
    }
   ],
   "source": [
    "%%time\n",
    "db = Database()\n",
    "d = []\n",
    "N = 20\n",
    "for _ in range(N):\n",
    "    db2 = db.gen_database_test(9, 5, 5, 3)\n",
    "    s = SVM(db2, 0.7, lambda x: pow(0.9,x))\n",
    "    d.append(s.cross_val_score(5))\n",
    "print(\"Mean acc = \",sum([x[\"accuracy\"] for x in d])/N)\n",
    "print(\"Mean time = \",sum([x[\"time\"] for x in d])/N)\n",
    "print(\"Mean std = \",sum([x[\"stddev\"] for x in d])/N)\n",
    "#rajouter labels\n",
    "# somme de k = Wx.shape ou 10xWx.shape ne change rien\n",
    "#normalisé bcp plus rapide (pas toujour)\n",
    "# certains ont un meilleur score avec d'autres que eux mêmes \n",
    "#affichage des graphes et dérouler l'algo à la main pour les carrés noir\n",
    "#faire avec labels 2~5 et essayer d'avoir des distributions de labels pas trop différentes entre les toplogies"
   ]
  },
  {
   "cell_type": "code",
   "execution_count": null,
   "metadata": {},
   "outputs": [],
   "source": []
  }
 ],
 "metadata": {
  "kernelspec": {
   "display_name": "Python 3",
   "language": "python",
   "name": "python3"
  },
  "language_info": {
   "codemirror_mode": {
    "name": "ipython",
    "version": 3
   },
   "file_extension": ".py",
   "mimetype": "text/x-python",
   "name": "python",
   "nbconvert_exporter": "python",
   "pygments_lexer": "ipython3",
   "version": "3.6.7"
  }
 },
 "nbformat": 4,
 "nbformat_minor": 2
}
