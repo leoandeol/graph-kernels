{
 "cells": [
  {
   "cell_type": "code",
   "execution_count": 1,
   "metadata": {},
   "outputs": [],
   "source": [
    "%matplotlib inline\n",
    "from graph import *\n",
    "from kernel import *\n",
    "from svm import SVM"
   ]
  },
  {
   "cell_type": "markdown",
   "metadata": {},
   "source": [
    "-> todo label tridimensionel\n",
    "\n",
    "-> calculer matrice labels\n",
    "\n",
    "-> envoyer visualisation"
   ]
  },
  {
   "cell_type": "code",
   "execution_count": 2,
   "metadata": {
    "scrolled": true
   },
   "outputs": [
    {
     "name": "stdout",
     "output_type": "stream",
     "text": [
      "['ring' 'ring' 'ring' 'ring' 'ring' 'star' 'star' 'star' 'star' 'star'\n",
      " 'tree' 'tree' 'tree' 'tree' 'tree']\n",
      "1.0\n",
      "CPU times: user 1.56 s, sys: 1.81 s, total: 3.37 s\n",
      "Wall time: 1.09 s\n"
     ]
    },
    {
     "data": {
      "image/png": "[encoded data removed]",
      "text/plain": [
       "<Figure size 432x288 with 2 Axes>"
      ]
     },
     "metadata": {
      "needs_background": "light"
     },
     "output_type": "display_data"
    }
   ],
   "source": [
    "%%time\n",
    "db = Database()\n",
    "db2 = db.gen_database_test(4,10,5,0.1,True)\n",
    "s = SVM(db2, 0.7, lambda x: pow(x,0.95))\n",
    "print(db2[:,1])\n",
    "s.learn()\n",
    "print(s.score())\n",
    "s.display_heatmap(\"train\")\n",
    "# somme de k = Wx.shape ou 10xWx.shape ne change rien\n",
    "#normalisé bcp plus rapide (pas toujour)\n",
    "# certains ont un meilleur score avec d'autres que eux mêmes \n",
    "#affichage des graphes et dérouler l'algo à la main pour les carrés noir\n",
    "#faire avec labels 2~5 et essayer d'avoir des distributions de labels pas trop différentes entre les toplogies"
   ]
  },
  {
   "cell_type": "code",
   "execution_count": null,
   "metadata": {},
   "outputs": [],
   "source": []
  }
 ],
 "metadata": {
  "kernelspec": {
   "display_name": "Python 3",
   "language": "python",
   "name": "python3"
  },
  "language_info": {
   "codemirror_mode": {
    "name": "ipython",
    "version": 3
   },
   "file_extension": ".py",
   "mimetype": "text/x-python",
   "name": "python",
   "nbconvert_exporter": "python",
   "pygments_lexer": "ipython3",
   "version": "3.6.7"
  }
 },
 "nbformat": 4,
 "nbformat_minor": 2
}
